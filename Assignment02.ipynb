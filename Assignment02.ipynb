{
 "cells": [
  {
   "cell_type": "code",
   "execution_count": 7,
   "id": "1dfdf97f",
   "metadata": {},
   "outputs": [],
   "source": [
    "import pandas as pd"
   ]
  },
  {
   "cell_type": "code",
   "execution_count": 9,
   "id": "2ffcfc54",
   "metadata": {},
   "outputs": [],
   "source": [
    "import gspread"
   ]
  },
  {
   "cell_type": "code",
   "execution_count": 11,
   "id": "0520a972",
   "metadata": {},
   "outputs": [],
   "source": [
    "gc = gspread.service_account(filename='C:\\\\Users\\\\SHIHAB\\\\jupyter\\\\Aiquest\\\\Machine Learning\\\\Assignment\\\\Assignment02\\\\assignment-02-dsml15-shihab-e38659958f3c.json')"
   ]
  },
  {
   "cell_type": "code",
   "execution_count": 13,
   "id": "aabd4ff3",
   "metadata": {},
   "outputs": [
    {
     "data": {
      "text/plain": [
       "<gspread.client.Client at 0x1c2be85d520>"
      ]
     },
     "execution_count": 13,
     "metadata": {},
     "output_type": "execute_result"
    }
   ],
   "source": [
    "gc"
   ]
  },
  {
   "cell_type": "code",
   "execution_count": 15,
   "id": "09204658",
   "metadata": {},
   "outputs": [],
   "source": [
    "sheet = gc.open_by_url('https://docs.google.com/spreadsheets/d/1LNTHtqtN0nZnNMxh8CiI8opale0RnQQbt5V3bj7ZCTU/edit?usp=sharing')"
   ]
  },
  {
   "cell_type": "code",
   "execution_count": 17,
   "id": "6c63171c",
   "metadata": {},
   "outputs": [
    {
     "data": {
      "text/plain": [
       "<Spreadsheet 'Assignment-02-DSML15-shihab' id:1LNTHtqtN0nZnNMxh8CiI8opale0RnQQbt5V3bj7ZCTU>"
      ]
     },
     "execution_count": 17,
     "metadata": {},
     "output_type": "execute_result"
    }
   ],
   "source": [
    "sheet"
   ]
  },
  {
   "cell_type": "code",
   "execution_count": 20,
   "id": "eeb01089",
   "metadata": {},
   "outputs": [],
   "source": [
    "ws = sheet.worksheet('Sheet1')"
   ]
  },
  {
   "cell_type": "code",
   "execution_count": 22,
   "id": "4ffdfd2f",
   "metadata": {},
   "outputs": [
    {
     "data": {
      "text/plain": [
       "<Worksheet 'Sheet1' id:0>"
      ]
     },
     "execution_count": 22,
     "metadata": {},
     "output_type": "execute_result"
    }
   ],
   "source": [
    "ws"
   ]
  },
  {
   "cell_type": "code",
   "execution_count": 24,
   "id": "c0c7d3e7",
   "metadata": {},
   "outputs": [],
   "source": [
    "df = pd.DataFrame(ws.get_all_records())"
   ]
  },
  {
   "cell_type": "code",
   "execution_count": 25,
   "id": "fad5c06a",
   "metadata": {},
   "outputs": [
    {
     "data": {
      "text/html": [
       "<div>\n",
       "<style scoped>\n",
       "    .dataframe tbody tr th:only-of-type {\n",
       "        vertical-align: middle;\n",
       "    }\n",
       "\n",
       "    .dataframe tbody tr th {\n",
       "        vertical-align: top;\n",
       "    }\n",
       "\n",
       "    .dataframe thead th {\n",
       "        text-align: right;\n",
       "    }\n",
       "</style>\n",
       "<table border=\"1\" class=\"dataframe\">\n",
       "  <thead>\n",
       "    <tr style=\"text-align: right;\">\n",
       "      <th></th>\n",
       "      <th>Name</th>\n",
       "      <th>Age</th>\n",
       "    </tr>\n",
       "  </thead>\n",
       "  <tbody>\n",
       "    <tr>\n",
       "      <th>0</th>\n",
       "      <td>Sakib</td>\n",
       "      <td>25</td>\n",
       "    </tr>\n",
       "    <tr>\n",
       "      <th>1</th>\n",
       "      <td>Kamal</td>\n",
       "      <td>63</td>\n",
       "    </tr>\n",
       "    <tr>\n",
       "      <th>2</th>\n",
       "      <td>Hasan</td>\n",
       "      <td>41</td>\n",
       "    </tr>\n",
       "    <tr>\n",
       "      <th>3</th>\n",
       "      <td>Amir</td>\n",
       "      <td>45</td>\n",
       "    </tr>\n",
       "  </tbody>\n",
       "</table>\n",
       "</div>"
      ],
      "text/plain": [
       "    Name  Age\n",
       "0  Sakib   25\n",
       "1  Kamal   63\n",
       "2  Hasan   41\n",
       "3   Amir   45"
      ]
     },
     "execution_count": 25,
     "metadata": {},
     "output_type": "execute_result"
    }
   ],
   "source": [
    "df"
   ]
  }
 ],
 "metadata": {
  "kernelspec": {
   "display_name": "Python 3 (ipykernel)",
   "language": "python",
   "name": "python3"
  },
  "language_info": {
   "codemirror_mode": {
    "name": "ipython",
    "version": 3
   },
   "file_extension": ".py",
   "mimetype": "text/x-python",
   "name": "python",
   "nbconvert_exporter": "python",
   "pygments_lexer": "ipython3",
   "version": "3.9.12"
  }
 },
 "nbformat": 4,
 "nbformat_minor": 5
}
